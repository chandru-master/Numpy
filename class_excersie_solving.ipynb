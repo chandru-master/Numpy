{
 "cells": [
  {
   "cell_type": "code",
   "execution_count": 1,
   "id": "fa6cea36",
   "metadata": {},
   "outputs": [],
   "source": [
    "import pandas as pd"
   ]
  },
  {
   "cell_type": "code",
   "execution_count": 2,
   "id": "4419a010",
   "metadata": {},
   "outputs": [],
   "source": [
    "import numpy as np"
   ]
  },
  {
   "cell_type": "code",
   "execution_count": 3,
   "id": "1734d23d",
   "metadata": {},
   "outputs": [],
   "source": [
    "import matplotlib.pyplot as plt"
   ]
  },
  {
   "cell_type": "code",
   "execution_count": 4,
   "id": "1130dd5b",
   "metadata": {},
   "outputs": [],
   "source": [
    "import seaborn as sns"
   ]
  },
  {
   "cell_type": "code",
   "execution_count": 5,
   "id": "bda51825",
   "metadata": {},
   "outputs": [
    {
     "name": "stdout",
     "output_type": "stream",
     "text": [
      "Enter Year: 2012\n",
      "2012 is a Leap Year\n"
     ]
    }
   ],
   "source": [
    "# 1. Write a program to check whether an year entered by an user is leap year or not\n",
    "\n",
    "# User enters the year\n",
    "year = eval(input(\"Enter Year: \"))\n",
    "\n",
    "# Leap Year Check\n",
    "if year % 4 == 0 and year % 100 != 0 or year %400==0:\n",
    "    print(year, \"is a Leap Year\")\n",
    "else:\n",
    "    print(year, \"is not a Leap Year\")"
   ]
  },
  {
   "cell_type": "code",
   "execution_count": 6,
   "id": "bd982310",
   "metadata": {},
   "outputs": [
    {
     "name": "stdout",
     "output_type": "stream",
     "text": [
      "Enter a string: ----====CP\n",
      "====CP\n"
     ]
    }
   ],
   "source": [
    "# 2. Take a string containing punctuation marks as an input from user and write a program to remove all the punctuation marks from a string\n",
    "\n",
    "# define punctuation\n",
    "punctuations = '''!()-[]{};:'\"\\,<>./?@#$%^&*_~'''\n",
    "\n",
    "#my_str = \"Hello!!!, he said ---and went.\"\n",
    "\n",
    "# To take input from the user\n",
    "my_str = input(\"Enter a string: \")\n",
    "\n",
    "# remove punctuation from the string\n",
    "no_punct = \"\"\n",
    "for char in my_str:\n",
    "    if char not in punctuations:\n",
    "        no_punct = no_punct + char\n",
    "\n",
    "# display the unpunctuated string\n",
    "print(no_punct)\n",
    "\n",
    "# give input value : \"hello --my [best] friend"
   ]
  },
  {
   "cell_type": "code",
   "execution_count": 7,
   "id": "ae787770",
   "metadata": {},
   "outputs": [
    {
     "name": "stdout",
     "output_type": "stream",
     "text": [
      " enter the A number = 5\n",
      " enter the B number = 6\n",
      "after swappiing: \n",
      "value of A :  6\n",
      "value of B :  5\n"
     ]
    }
   ],
   "source": [
    " # 3. Take two separate numbers as input from the user and Write a program to swap 2 numbers without using temporary variable\n",
    "    \n",
    "a = int(input(\" enter the A number = \"))\n",
    "b = int(input(\" enter the B number = \"))\n",
    "#temp = a \n",
    "#a = b \n",
    "#b = temp\n",
    "a = a+b\n",
    "b = a-b\n",
    "a = a-b\n",
    "print(\"after swappiing: \")\n",
    "print(\"value of A : \" ,a )\n",
    "print(\"value of B : \" ,b )"
   ]
  },
  {
   "cell_type": "code",
   "execution_count": 8,
   "id": "46353369",
   "metadata": {},
   "outputs": [
    {
     "data": {
      "text/plain": [
       "150"
      ]
     },
     "execution_count": 8,
     "metadata": {},
     "output_type": "execute_result"
    }
   ],
   "source": [
    "# 4. Write a program to print product of following variables\n",
    "# we to use nested for loop which means for loop inside the for loop\n",
    "integer = 10\n",
    "string = \"15\"\n",
    "product = integer*int(string)\n",
    "product"
   ]
  },
  {
   "cell_type": "code",
   "execution_count": 13,
   "id": "765b2a51",
   "metadata": {},
   "outputs": [
    {
     "name": "stdout",
     "output_type": "stream",
     "text": [
      "Enter the number of rows :7\n",
      "a \n",
      "b c \n",
      "d e f \n",
      "g h i j \n",
      "k l m n o \n",
      "p q r s t u \n",
      "v w x y z { | \n"
     ]
    }
   ],
   "source": [
    "# 5. Write a program to print following pattern\n",
    "\n",
    "n = eval(input(\"Enter the number of rows :\"))\n",
    "k = ord(\"a\")\n",
    "\n",
    "for i in range(n):\n",
    "    for j in range(i+1):\n",
    "        print(chr(k), end = \" \")\n",
    "        k=k+1\n",
    "    print()"
   ]
  },
  {
   "cell_type": "code",
   "execution_count": 16,
   "id": "64aa07c4",
   "metadata": {},
   "outputs": [
    {
     "name": "stdout",
     "output_type": "stream",
     "text": [
      " enter the value of n :6\n",
      "2 * 6 = 12\n",
      "3 * 6 = 18\n",
      "4 * 6 = 24\n",
      "5 * 6 = 30\n",
      "6 * 6 = 36\n"
     ]
    }
   ],
   "source": [
    "# 6. Write a program to print tables from 2 to n, where n is provided by user\n",
    "a = 2\n",
    "n = int(input(\" enter the value of n :\"))\n",
    "\n",
    "for i in range(a,n+1):\n",
    "    print(a,\"*\",n,\"=\",n*i)\n",
    "    a+=1\n",
    "    \n",
    "\n",
    "# just enter the two tables multiplication tables will come "
   ]
  },
  {
   "cell_type": "code",
   "execution_count": 37,
   "id": "093fd2d6",
   "metadata": {},
   "outputs": [
    {
     "name": "stdout",
     "output_type": "stream",
     "text": [
      "Enter the my height in centimeters:170\n",
      "The length in inches 66.98\n",
      "The length in feet 5.58\n"
     ]
    }
   ],
   "source": [
    "#7.Write a program to read height (in centimeters) from user and then convert it to feet and inches:\n",
    "cm=int(input(\"Enter the my height in centimeters:\"))\n",
    "inches=0.394*cm\n",
    "feet=0.0328*cm\n",
    "print(\"The length in inches\",round(inches,2))\n",
    "print(\"The length in feet\",round(feet,2))"
   ]
  },
  {
   "cell_type": "code",
   "execution_count": 6,
   "id": "850644f7",
   "metadata": {},
   "outputs": [
    {
     "name": "stdout",
     "output_type": "stream",
     "text": [
      "enter the numbre of rows: 5\n",
      "\n",
      "* \n",
      "* * \n",
      "* * * \n",
      "* * * * \n",
      "* * * * * \n",
      "* * * * \n",
      "* * * \n",
      "* * \n",
      "* \n"
     ]
    }
   ],
   "source": [
    "# 8. Write a program to print following pattern\n",
    "\n",
    "n = int(input(\"enter the numbre of rows: \"))\n",
    "for i in range(n):\n",
    "    for j in range(i):\n",
    "        print ('* ', end=\"\")\n",
    "    print('')\n",
    "\n",
    "for i in range(n,0,-1):\n",
    "    for j in range(i):\n",
    "        print('* ', end=\"\")\n",
    "    print('')"
   ]
  },
  {
   "cell_type": "code",
   "execution_count": 3,
   "id": "c82734aa",
   "metadata": {},
   "outputs": [
    {
     "name": "stdout",
     "output_type": "stream",
     "text": [
      "enter a number: 5\n",
      "\n",
      "*\n",
      "**\n",
      "***\n",
      "****\n",
      "*****\n",
      "****\n",
      "***\n",
      "**\n",
      "*\n"
     ]
    }
   ],
   "source": [
    "n=int(input('enter a number: '))\n",
    "a=''\n",
    "for i in range(n):\n",
    "    print()\n",
    "    a+='*'\n",
    "    print(a,end='')\n",
    "for i in range(n):\n",
    "    print(a[0:-i])"
   ]
  },
  {
   "cell_type": "code",
   "execution_count": 18,
   "id": "0c54ddf8",
   "metadata": {},
   "outputs": [
    {
     "name": "stdout",
     "output_type": "stream",
     "text": [
      "Enter a number: 3\n",
      "* \n",
      "\n",
      "* * \n",
      "\n",
      "* * * \n",
      "\n",
      "* * \n",
      "\n",
      "* \n",
      "\n",
      "\n",
      "\n"
     ]
    }
   ],
   "source": [
    "m=0\n",
    "mr=eval(input('Enter a number: '))\n",
    "for i in range(0,mr):\n",
    "    m+=1\n",
    "    for j in range(0,m):\n",
    "        print('*',end=' ')\n",
    "    print('\\n')\n",
    "    if m>(mr-1):\n",
    "        for k in range(0,mr):\n",
    "            m-=1\n",
    "            for l in range(0,m):\n",
    "                print('*',end=' ')\n",
    "            print('\\n')"
   ]
  },
  {
   "cell_type": "code",
   "execution_count": 121,
   "id": "b47a9cb1",
   "metadata": {
    "code_folding": []
   },
   "outputs": [
    {
     "name": "stdout",
     "output_type": "stream",
     "text": [
      "{'Jon': 26, 'Roger': 34, 'Jessica': 13, 'Monica': 24, 'Ashton': 65}\n"
     ]
    }
   ],
   "source": [
    "# 9. Below list contains age and name of five students.\n",
    "#Convert the list into a dictionary such that the name is taken as key and\n",
    "# the age before their name is taken as thier respective value in the dictionary\n",
    "#students = [26,'Jon',34,'Roger',13,'Jessica',24,'Monica',65,'Ashton'] \n",
    "#Output: {'Jon':26, 'Roger':34, 'Jessica':13, 'Monica':24, 'Ashton':65}\n",
    "    \n",
    "def Convert(student):\n",
    "    res_dct = {student[i + 1] :student[i] for i in range(0, len(student), 2)}\n",
    "    return res_dct    \n",
    "\n",
    "student = [26,'Jon',34,'Roger',13,'Jessica',24,'Monica',65,'Ashton']\n",
    "print(Convert(student))"
   ]
  },
  {
   "cell_type": "code",
   "execution_count": 22,
   "id": "f6cea98e",
   "metadata": {},
   "outputs": [
    {
     "name": "stdout",
     "output_type": "stream",
     "text": [
      "string 1 : dad\n",
      "string 2 : bad\n",
      "given string are not anagram\n"
     ]
    }
   ],
   "source": [
    "#10. Write a program to check whether two strings, taken from user, are anagram or not\n",
    "# IF SORT THE STRING ARE EQUAL THAT IS ANAGRAM # (DAD , ADD),(EARTH,HEART)\n",
    "# SORT AND COMPARE\n",
    "str1 = input(\"string 1 : \")\n",
    "str2 = input(\"string 2 : \")\n",
    "sorted_str1 = sorted(str1)\n",
    "sorted_str2 = sorted(str2)\n",
    "\n",
    "if sorted_str1 == sorted_str2:\n",
    "    print(\"given string are Anagram\")\n",
    "else:\n",
    "    print(\"given string are not anagram\")\n"
   ]
  },
  {
   "cell_type": "code",
   "execution_count": 35,
   "id": "556ef56b",
   "metadata": {},
   "outputs": [
    {
     "name": "stdout",
     "output_type": "stream",
     "text": [
      "how many numbers you want to enter ?6\n",
      "enter the number :5\n",
      "enter the number :26\n",
      "enter the number :24\n",
      "enter the number :15\n",
      "enter the number :81\n",
      "enter the number :5\n",
      "unsorted_list :  [5, 26, 24, 15, 81, 5]\n",
      "[5, 5, 15, 24, 26, 81]\n"
     ]
    }
   ],
   "source": [
    "# 11. Write a program that sorts all the elements of the list according to the first letter,\n",
    "#irrespective of their cases (uppercase or lowercase).\n",
    "#Note: Do not use any inbuilt sorting function\n",
    "num = int(input(\"how many numbers you want to enter ?\"))\n",
    "list1 = [int(input(\"enter the number :\")) for x in range(num)]\n",
    "\n",
    "print(\"unsorted_list : \", list1)\n",
    "\n",
    "for i in range(len(list1)-1):\n",
    "    m_ind = i\n",
    "    for j in range(i+1,len(list1)):\n",
    "        if  list1[j] < list1[m_ind]:\n",
    "            m_ind = j\n",
    "    if list1[i] != list1[m_ind]:\n",
    "        list1[i],list1[m_ind] = list1[m_ind],list1[i]\n",
    "print(list1)"
   ]
  },
  {
   "cell_type": "code",
   "execution_count": 45,
   "id": "7d8b754d",
   "metadata": {},
   "outputs": [
    {
     "name": "stdout",
     "output_type": "stream",
     "text": [
      "Sour fruits :  ['Lemon', 'Grapes', 'Kiwi', 'Orange', 'Limes']\n"
     ]
    }
   ],
   "source": [
    "# 12. Write a program that prints a list of sour fruits from the below tuple:\n",
    "# fruits = (('Lemon','sour'), ('DragonFruit', 'Sweet'), ('Grapes','soUr'), ('Kiwi','Sour'), ('Apples','sweet'), ('Orange','sour'), ('Blueberries','sweet'), ('Limes','Sour') )\n",
    "# Output: Sour Fruits: ['Lemon', 'Grapes', 'Kiwi', 'Orange', 'Limes']\n",
    "\n",
    "\n",
    "\n",
    "fruits = (('Lemon','sour'), ('DragonFruit', 'Sweet'), ('Grapes','soUr'), \n",
    "          ('Kiwi','Sour'), ('Apples','sweet'), ('Orange','sour'), ('Blueberries','sweet'), ('Limes','Sour') )\n",
    "li=[]\n",
    "for i in fruits:\n",
    "    if i[1].lower() == 'sour':\n",
    "        li.append(i[0])\n",
    "print(\"Sour fruits : \",li)"
   ]
  },
  {
   "cell_type": "code",
   "execution_count": 2,
   "id": "00a9701c",
   "metadata": {},
   "outputs": [
    {
     "name": "stdout",
     "output_type": "stream",
     "text": [
      "positive tweets are ['This government policies are good', 'The way he played showed that he is one of the best players in the world', 'Her acting in the play was awesome', 'Its nice to hear this little kids laugh']\n",
      "\n",
      "\n",
      "negative tweets are ['bad implementation', 'The wine tastes awful']\n"
     ]
    }
   ],
   "source": [
    "# 13. 13. Given below are the list of positive and negative words. Also a list of tweets is provided.\n",
    "#Separate out the positive and negative comments\n",
    "\n",
    "positive = ['good','awesome', 'best', 'nice']\n",
    "\n",
    "negative = ['worst','awful', 'bad']\n",
    "\n",
    "tweets = ['This government policies are good', 'bad implementation', \n",
    "          'The way he played showed that he is one of the best players in the world', \n",
    "          'Her acting in the play was awesome', 'The wine tastes awful', 'Its nice to hear this little kids laugh']\n",
    "\n",
    "postive_comments=[]\n",
    "negative_comments=[]\n",
    "for sentence in tweets:\n",
    "    for word in sentence.split(' '):\n",
    "        if word in positive:\n",
    "            postive_comments.append(sentence)\n",
    "        elif word in negative:\n",
    "            negative_comments.append(sentence)\n",
    "print('positive tweets are',postive_comments)\n",
    "print('\\n')\n",
    "print('negative tweets are',negative_comments)"
   ]
  },
  {
   "cell_type": "code",
   "execution_count": 13,
   "id": "47afca75",
   "metadata": {},
   "outputs": [],
   "source": [
    "import numpy as np"
   ]
  },
  {
   "cell_type": "code",
   "execution_count": 20,
   "id": "4f20da39",
   "metadata": {},
   "outputs": [
    {
     "name": "stdout",
     "output_type": "stream",
     "text": [
      "original matrix: \n",
      "[[1, 2, 3], [4, 5, 6], [7, 8, 9]]\n",
      "[[1, 8, 1], [3, 7, 3], [4, 5, 9]]\n",
      "result of matrix multiplication: \n",
      "[[ 19  37  34]\n",
      " [ 43  97  73]\n",
      " [ 67 157 112]]\n"
     ]
    }
   ],
   "source": [
    "# 14. 14. Write a program that performs multiplication of the following two matrix\n",
    "\n",
    "X = [[1,2,3],\n",
    "     [4 ,5,6],\n",
    "     [7 ,8,9]]\n",
    "Y = [[1,8,1],\n",
    "     [3,7,3],\n",
    "     [4,5,9]]\n",
    "print(\"original matrix: \")\n",
    "print(X)\n",
    "print(Y)\n",
    "result = np.dot(X,Y)\n",
    "print(\"result of matrix multiplication: \")\n",
    "print(result)\n"
   ]
  },
  {
   "cell_type": "code",
   "execution_count": 29,
   "id": "c8150238",
   "metadata": {},
   "outputs": [
    {
     "name": "stdout",
     "output_type": "stream",
     "text": [
      "New_dictionary:  {'emp01': 'Raj', 'emp02': 'Sheela', 'emp03': 'Joseph'}\n"
     ]
    }
   ],
   "source": [
    "# 15. Write a program to remove space from keys of the given dictionary\n",
    "Employee = {'emp 01' : 'Raj', 'emp 02' : 'Sheela', 'emp 0 3 ': 'Joseph'};\n",
    "Employee =  {x.replace(' ',''): v \n",
    "     for x, v in Employee.items()}\n",
    "print(\"New_dictionary: \",Employee)\n"
   ]
  },
  {
   "cell_type": "code",
   "execution_count": 29,
   "id": "0b0aab53",
   "metadata": {},
   "outputs": [
    {
     "name": "stdout",
     "output_type": "stream",
     "text": [
      "old dataframe :      Subjects  Score\n",
      "0      Maths    345\n",
      "1    Physics    432\n",
      "2  Chemistry    456\n",
      "3    Biology    234\n",
      "4    Geology    254\n",
      "\n"
     ]
    }
   ],
   "source": [
    "# 16. Write a program to display the subjects for which the scores are between 300 and 500 (inclusive) in the given dataframe\n",
    "\n",
    "\n",
    "df1 = pd.DataFrame ({\n",
    "    \"Subjects\": [\"Maths\",\"Physics\",\"Chemistry\",\"Biology\",\"Geology\"],\n",
    "    \"Score\": [345,432,456,234,254] ,\n",
    "})\n",
    "\n",
    "print(\"old dataframe : \", df1)\n",
    "\n",
    "#max_val = df1.max()\n",
    "#min_val = df1.min()\n",
    "#print(max_val)\n",
    "#print(min_val)\n",
    "\n",
    "df2 = df1[df1[\"Score\"]>=300]\n",
    "print()\n",
    "\n",
    "\n",
    " "
   ]
  },
  {
   "cell_type": "code",
   "execution_count": 36,
   "id": "54866c5f",
   "metadata": {
    "scrolled": true
   },
   "outputs": [
    {
     "name": "stdout",
     "output_type": "stream",
     "text": [
      "My original data    Product Country  Sales\n",
      "0       A     USA  44000\n",
      "1       J   Japan  43000\n",
      "2       A  Europe  54000\n",
      "3       L   Japan  95600\n",
      "4       R  Europe  79000\n",
      "5       A     USA  67000\n",
      "6       R     USA  68000\n",
      "7       J   Japan  38000\n",
      "8       L     USA  59000\n",
      "9       A  Europe  60000\n",
      "cross tab table :  Product  A  J  L  R\n",
      "Country            \n",
      "Europe   2  0  0  1\n",
      "Japan    0  2  1  0\n",
      "USA      2  0  1  1\n",
      "output of the table:             Sales                                         \n",
      "Product        A        J        L        R           All\n",
      "Country                                                  \n",
      "Europe   57000.0      NaN      NaN  79000.0  64333.333333\n",
      "Japan        NaN  40500.0  95600.0      NaN  58866.666667\n",
      "USA      55500.0      NaN  59000.0  68000.0  59500.000000\n",
      "All      56250.0  40500.0  77300.0  73500.0  60760.000000\n"
     ]
    }
   ],
   "source": [
    "# 28. Compute total sales for each product and country\n",
    "\n",
    "data = pd.read_csv(\"C:/Users/chandraprakash/Documents/Book1.csv\")\n",
    "print(\"My original data \", data)\n",
    "\n",
    "data1 = pd.crosstab(data.Country,data.Product)\n",
    "print(\"cross tab table : \",data1)\n",
    "data2 = data.pivot_table(index=\"Country\",columns=\"Product\",margins=True)\n",
    "print(\"output of the table: \",data2)"
   ]
  },
  {
   "cell_type": "code",
   "execution_count": 37,
   "id": "345a2484",
   "metadata": {},
   "outputs": [
    {
     "name": "stdout",
     "output_type": "stream",
     "text": [
      "My original data    Product Country  Sales\n",
      "0       A     USA  44000\n",
      "1       J   Japan  43000\n",
      "2       A  Europe  54000\n",
      "3       L   Japan  95600\n",
      "4       R  Europe  79000\n",
      "5       A     USA  67000\n",
      "6       R     USA  68000\n",
      "7       J   Japan  38000\n",
      "8       L     USA  59000\n",
      "9       A  Europe  60000\n"
     ]
    }
   ],
   "source": [
    "# 29. Get the descriptive statistics of the sales for each Country\n",
    "\n",
    "data = pd.read_csv(\"C:/Users/chandraprakash/Documents/Book1.csv\")\n",
    "print(\"My original data \", data)\n",
    "\n",
    "# descritive analytics count()sum()mean()median()mode()std()min()max()abs()prod()cumsum()cumprod()\n",
    "\n",
    "\n",
    "\n"
   ]
  },
  {
   "cell_type": "code",
   "execution_count": null,
   "id": "8739f7eb",
   "metadata": {},
   "outputs": [],
   "source": []
  },
  {
   "cell_type": "code",
   "execution_count": 18,
   "id": "6b1a69c7",
   "metadata": {},
   "outputs": [
    {
     "name": "stdout",
     "output_type": "stream",
     "text": [
      "normal array :  [[ 0  1  2  3  4]\n",
      " [ 5  6  7  8  9]\n",
      " [10 11 12 13 14]\n",
      " [15 16 17 18 19]]\n",
      "reversed arrayy: [[4, 3, 2, 1, 0], [9, 8, 7, 6, 5], [14, 13, 12, 11, 10], [19, 18, 17, 16, 15]]\n"
     ]
    }
   ],
   "source": [
    "# 30. Reverse each of the rows of the 2D array\n",
    "\n",
    "num_array = np.arange(20).reshape(4,5)\n",
    "\n",
    "print(\"normal array : \", num_array)\n",
    "\n",
    "res = [sorted(sub, reverse = True) for sub in num_array]\n",
    "\n",
    "print(\"reversed arrayy:\", res)"
   ]
  }
 ],
 "metadata": {
  "kernelspec": {
   "display_name": "Python 3",
   "language": "python",
   "name": "python3"
  },
  "language_info": {
   "codemirror_mode": {
    "name": "ipython",
    "version": 3
   },
   "file_extension": ".py",
   "mimetype": "text/x-python",
   "name": "python",
   "nbconvert_exporter": "python",
   "pygments_lexer": "ipython3",
   "version": "3.8.8"
  },
  "varInspector": {
   "cols": {
    "lenName": 16,
    "lenType": 16,
    "lenVar": 40
   },
   "kernels_config": {
    "python": {
     "delete_cmd_postfix": "",
     "delete_cmd_prefix": "del ",
     "library": "var_list.py",
     "varRefreshCmd": "print(var_dic_list())"
    },
    "r": {
     "delete_cmd_postfix": ") ",
     "delete_cmd_prefix": "rm(",
     "library": "var_list.r",
     "varRefreshCmd": "cat(var_dic_list()) "
    }
   },
   "types_to_exclude": [
    "module",
    "function",
    "builtin_function_or_method",
    "instance",
    "_Feature"
   ],
   "window_display": false
  }
 },
 "nbformat": 4,
 "nbformat_minor": 5
}
